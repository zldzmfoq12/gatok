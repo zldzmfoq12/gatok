{
 "cells": [
  {
   "cell_type": "code",
   "execution_count": 2,
   "metadata": {},
   "outputs": [
    {
     "name": "stdout",
     "output_type": "stream",
     "text": [
      "---Kay Ivey--- 정보 처리\n",
      "---Bill Walker--- 정보 처리\n",
      "---Doug Ducey--- 정보 처리\n",
      "---Asa Hutchinson--- 정보 처리\n",
      "---Jerry Brown--- 정보 처리\n",
      "---John Hickenlooper--- 정보 처리\n",
      "---Dannel Malloy--- 정보 처리\n",
      "---John Carney--- 정보 처리\n",
      "---Rick Scott--- 정보 처리\n",
      "---Nathan Deal--- 정보 처리\n",
      "---David Ige--- 정보 처리\n",
      "---Butch Otter--- 정보 처리\n",
      "---Bruce Rauner--- 정보 처리\n",
      "---Eric Holcomb--- 정보 처리\n",
      "---Kim Reynolds--- 정보 처리\n",
      "---Jeff Colyer--- 정보 처리\n",
      "---Matt Bevin--- 정보 처리\n",
      "---John Bel Edwards--- 정보 처리\n",
      "---Paul LePage--- 정보 처리\n",
      "---Larry Hogan--- 정보 처리\n",
      "---Charlie Baker--- 정보 처리\n",
      "---Rick Snyder--- 정보 처리\n",
      "---Mark Dayton--- 정보 처리\n",
      "---Phil Bryant--- 정보 처리\n",
      "---Mike Parson--- 정보 처리\n",
      "---Steve Bullock--- 정보 처리\n",
      "---Pete Ricketts--- 정보 처리\n",
      "---Brian Sandoval--- 정보 처리\n",
      "---Chris Sununu--- 정보 처리\n",
      "---Phil Murphy--- 정보 처리\n",
      "---Susana Martinez--- 정보 처리\n",
      "---Andrew Cuomo--- 정보 처리\n",
      "---Roy Cooper--- 정보 처리\n",
      "---Doug Burgum--- 정보 처리\n",
      "---John Kasich--- 정보 처리\n",
      "---Mary Fallin--- 정보 처리\n",
      "---Kate Brown--- 정보 처리\n",
      "---Tom Wolf--- 정보 처리\n",
      "---Gina Raimondo--- 정보 처리\n",
      "---Henry McMaster--- 정보 처리\n",
      "---Dennis Daugaard--- 정보 처리\n",
      "---Bill Haslam--- 정보 처리\n",
      "---Greg Abbott--- 정보 처리\n",
      "---Gary Herbert--- 정보 처리\n",
      "---Phil Scott--- 정보 처리\n",
      "---Ralph Northam--- 정보 처리\n",
      "---Jay Inslee--- 정보 처리\n",
      "---Jim Justice--- 정보 처리\n",
      "---Scott Walker--- 정보 처리\n",
      "---Matt Mead--- 정보 처리\n",
      "---정보 처리 끝---\n"
     ]
    }
   ],
   "source": [
    "from selenium import webdriver\n",
    "from bs4 import BeautifulSoup\n",
    "from selenium.common.exceptions import NoSuchElementException\n",
    "import time\n",
    "#import pymysql\n",
    "\n",
    "#conn = pymysql.connect(host='localhost', user='hyhci', password='ashia19969', db='politicians', charset='utf8')\n",
    "\n",
    "#curs = conn.cursor()\n",
    "\n",
    "photo = []\n",
    "name = []\n",
    "birth = []\n",
    "hometown = []\n",
    "party = []\n",
    "span = []\n",
    "span.append(1)\n",
    "\n",
    "driver = webdriver.Chrome('/Applications/chromedriver')\n",
    "driver.set_window_size(1440,1080)\n",
    "driver.implicitly_wait(3)\n",
    "driver.get('https://en.wikipedia.org/wiki/List_of_current_United_States_governors')\n",
    "driver.implicitly_wait(3)\n",
    "    \n",
    "def politicians(i):\n",
    "    try:\n",
    "        party_in = driver.find_element_by_css_selector('#mw-content-text > div > table:nth-child(9) > tbody > tr:nth-child('+str(i+1) +') > td:nth-child(5) > a')\n",
    "        party_text = party_in.text\n",
    "        if party_text == 'Republican':\n",
    "            party_num = 1\n",
    "        elif party_text == 'Democratic':\n",
    "            party_num = 0\n",
    "        else:\n",
    "            party_num = 2\n",
    "        party.append(party_num)\n",
    "\n",
    "        name_in = driver.find_element_by_css_selector('#mw-content-text > div > table:nth-child(9) > tbody > tr:nth-child('+str(i+1) +') > td:nth-child(3) > center > span > span > span > a')\n",
    "        name_text = name_in.text\n",
    "        name.append(name_text)\n",
    "        print('---'+name_text+'--- 정보 처리')\n",
    "\n",
    "        photo_in = driver.find_element_by_css_selector('#mw-content-text > div > table:nth-child(9) > tbody > tr:nth-child('+str(i+1) +') > td:nth-child(2) > a > img')\n",
    "        photo_url = photo_in.get_attribute('src')\n",
    "        photo.append(photo_url)\n",
    "    except NoSuchElementException:\n",
    "        pass\n",
    "    \n",
    "for i in range(0, 50):\n",
    "    politicians(i)\n",
    "    time.sleep(1)\n",
    "print(\"---정보 처리 끝---\")"
   ]
  },
  {
   "cell_type": "code",
   "execution_count": 7,
   "metadata": {},
   "outputs": [],
   "source": [
    "import pandas as pd\n",
    "\n",
    "df = pd.DataFrame({'name':name, 'photo':photo, 'party':party})"
   ]
  },
  {
   "cell_type": "code",
   "execution_count": 9,
   "metadata": {},
   "outputs": [],
   "source": [
    "df.to_csv('governor.csv')"
   ]
  },
  {
   "cell_type": "code",
   "execution_count": 5,
   "metadata": {},
   "outputs": [
    {
     "data": {
      "text/plain": [
       "50"
      ]
     },
     "execution_count": 5,
     "metadata": {},
     "output_type": "execute_result"
    }
   ],
   "source": []
  },
  {
   "cell_type": "code",
   "execution_count": null,
   "metadata": {},
   "outputs": [],
   "source": []
  }
 ],
 "metadata": {
  "kernelspec": {
   "display_name": "Python 3",
   "language": "python",
   "name": "python3"
  },
  "language_info": {
   "codemirror_mode": {
    "name": "ipython",
    "version": 3
   },
   "file_extension": ".py",
   "mimetype": "text/x-python",
   "name": "python",
   "nbconvert_exporter": "python",
   "pygments_lexer": "ipython3",
   "version": "3.7.0"
  }
 },
 "nbformat": 4,
 "nbformat_minor": 2
}
